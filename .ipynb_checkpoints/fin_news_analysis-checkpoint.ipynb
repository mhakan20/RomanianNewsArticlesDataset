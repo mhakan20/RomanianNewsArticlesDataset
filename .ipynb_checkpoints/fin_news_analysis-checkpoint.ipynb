{
 "cells": [
  {
   "cell_type": "code",
   "execution_count": 18,
   "id": "5126e8ee",
   "metadata": {},
   "outputs": [],
   "source": [
    "import numpy as np\n",
    "import pandas as pd\n",
    "import matplotlib.pyplot as plt\n",
    "import os"
   ]
  },
  {
   "cell_type": "code",
   "execution_count": 25,
   "id": "70046416",
   "metadata": {},
   "outputs": [
    {
     "name": "stdout",
     "output_type": "stream",
     "text": [
      "Collecting nltk\n",
      "  Downloading nltk-3.8.1-py3-none-any.whl (1.5 MB)\n",
      "\u001b[2K     \u001b[90m━━━━━━━━━━━━━━━━━━━━━━━━━━━━━━━━━━━━━━━━\u001b[0m \u001b[32m1.5/1.5 MB\u001b[0m \u001b[31m6.9 MB/s\u001b[0m eta \u001b[36m0:00:00\u001b[0ma \u001b[36m0:00:01\u001b[0m\n",
      "\u001b[?25hRequirement already satisfied: joblib in /Users/hakanmeva/opt/miniconda3/envs/tensorflow/lib/python3.9/site-packages (from nltk) (1.2.0)\n",
      "Requirement already satisfied: click in /Users/hakanmeva/opt/miniconda3/envs/tensorflow/lib/python3.9/site-packages (from nltk) (8.1.3)\n",
      "Collecting regex>=2021.8.3\n",
      "  Downloading regex-2023.6.3-cp39-cp39-macosx_11_0_arm64.whl (288 kB)\n",
      "\u001b[2K     \u001b[90m━━━━━━━━━━━━━━━━━━━━━━━━━━━━━━━━━━━━━━\u001b[0m \u001b[32m289.0/289.0 kB\u001b[0m \u001b[31m30.4 MB/s\u001b[0m eta \u001b[36m0:00:00\u001b[0m\n",
      "\u001b[?25hRequirement already satisfied: tqdm in /Users/hakanmeva/opt/miniconda3/envs/tensorflow/lib/python3.9/site-packages (from nltk) (4.64.1)\n",
      "Installing collected packages: regex, nltk\n",
      "Successfully installed nltk-3.8.1 regex-2023.6.3\n"
     ]
    }
   ],
   "source": [
    "!pip install nltk"
   ]
  },
  {
   "cell_type": "code",
   "execution_count": 26,
   "id": "06d246a6",
   "metadata": {},
   "outputs": [
    {
     "name": "stderr",
     "output_type": "stream",
     "text": [
      "[nltk_data] Downloading package punkt to /Users/hakanmeva/nltk_data...\n",
      "[nltk_data]   Unzipping tokenizers/punkt.zip.\n"
     ]
    },
    {
     "data": {
      "text/plain": [
       "True"
      ]
     },
     "execution_count": 26,
     "metadata": {},
     "output_type": "execute_result"
    }
   ],
   "source": [
    "import nltk\n",
    "nltk.download('punkt')"
   ]
  },
  {
   "cell_type": "code",
   "execution_count": 27,
   "id": "04ec7f48",
   "metadata": {},
   "outputs": [],
   "source": [
    "from nltk.tokenize import sent_tokenize"
   ]
  },
  {
   "cell_type": "code",
   "execution_count": 2,
   "id": "c75c67fa",
   "metadata": {},
   "outputs": [],
   "source": [
    "years = [2016, 2017, 2018, 2019, 2020, 2021, 2022]"
   ]
  },
  {
   "cell_type": "code",
   "execution_count": 5,
   "id": "cd781c15",
   "metadata": {},
   "outputs": [],
   "source": [
    "df_burse_list = []\n",
    "for year in years:\n",
    "    df = pd.read_parquet('datasets/df_burse_fonduri_mutuale_' + str(year) + '.parquet')\n",
    "    df_burse_list.append(df)\n",
    "df_burse = pd.concat(df_burse_list)"
   ]
  },
  {
   "cell_type": "code",
   "execution_count": 8,
   "id": "c6fde2ad",
   "metadata": {},
   "outputs": [],
   "source": [
    "df_pers_list = []\n",
    "for year in years:\n",
    "    df = pd.read_parquet('datasets/df_finante_pers_' + str(year) + '.parquet')\n",
    "    df_pers_list.append(df)\n",
    "df_pers = pd.concat(df_pers_list)"
   ]
  },
  {
   "cell_type": "markdown",
   "id": "0d752a11",
   "metadata": {},
   "source": [
    "## General Stats"
   ]
  },
  {
   "cell_type": "code",
   "execution_count": 12,
   "id": "32d0cc0f",
   "metadata": {},
   "outputs": [
    {
     "name": "stdout",
     "output_type": "stream",
     "text": [
      "Length of Burse fonduri mutuale dataset: 9564\n",
      "Length of Finante personale dataset: 8417\n"
     ]
    }
   ],
   "source": [
    "print('Length of Burse fonduri mutuale dataset: {}'.format(df_burse.shape[0]))\n",
    "print('Length of Finante personale dataset: {}'.format(df_pers.shape[0]))"
   ]
  },
  {
   "cell_type": "code",
   "execution_count": 22,
   "id": "55f69c46",
   "metadata": {},
   "outputs": [
    {
     "name": "stdout",
     "output_type": "stream",
     "text": [
      "Total file size for Burse fonduri mutuale dataset: 11.91284M\n",
      "Total file size for Finante personale dataset: 12.700395M\n"
     ]
    }
   ],
   "source": [
    "burse_mem = 0\n",
    "for year in years:\n",
    "    burse_mem += os.path.getsize('datasets/df_burse_fonduri_mutuale_' + str(year) + '.parquet')\n",
    "print('Total file size for Burse fonduri mutuale dataset: {}M'.format(burse_mem / 1000000))\n",
    "burse_pers = 0\n",
    "for year in years:\n",
    "    burse_pers += os.path.getsize('datasets/df_finante_pers_' + str(year) + '.parquet')\n",
    "print('Total file size for Finante personale dataset: {}M'.format(burse_pers / 1000000))"
   ]
  },
  {
   "cell_type": "markdown",
   "id": "cb320ffd",
   "metadata": {},
   "source": [
    "### Burse DS Sentence Stats"
   ]
  },
  {
   "cell_type": "code",
   "execution_count": 46,
   "id": "7e7d1ada",
   "metadata": {},
   "outputs": [],
   "source": [
    "df_burse['title_sent_len'] = df_burse.title.apply(sent_tokenize).str.len()\n",
    "df_burse['headline_sent_len'] =df_burse.headline.apply(sent_tokenize).str.len()\n",
    "df_burse['summary_sent_len'] = df_burse.description.apply(sent_tokenize).str.len()\n",
    "df_burse['article_sent_len'] =df_burse.article_text.apply(sent_tokenize).str.len()"
   ]
  },
  {
   "cell_type": "code",
   "execution_count": 65,
   "id": "e06bab3e",
   "metadata": {},
   "outputs": [
    {
     "data": {
      "text/plain": [
       "count    9564.000000\n",
       "mean        1.831242\n",
       "std         0.987087\n",
       "min         1.000000\n",
       "25%         1.000000\n",
       "50%         2.000000\n",
       "75%         2.000000\n",
       "max         8.000000\n",
       "Name: title_sent_len, dtype: float64"
      ]
     },
     "execution_count": 65,
     "metadata": {},
     "output_type": "execute_result"
    }
   ],
   "source": [
    "df_burse[df_burse.title_sent_len > 0]['title_sent_len'].describe()"
   ]
  },
  {
   "cell_type": "code",
   "execution_count": 66,
   "id": "0c336cce",
   "metadata": {},
   "outputs": [
    {
     "data": {
      "text/plain": [
       "17514"
      ]
     },
     "execution_count": 66,
     "metadata": {},
     "output_type": "execute_result"
    }
   ],
   "source": [
    "df_burse[df_burse.title_sent_len > 0]['title_sent_len'].sum()"
   ]
  },
  {
   "cell_type": "code",
   "execution_count": 67,
   "id": "75459fdd",
   "metadata": {},
   "outputs": [
    {
     "data": {
      "text/plain": [
       "count    9564.000000\n",
       "mean        1.512965\n",
       "std         0.706359\n",
       "min         1.000000\n",
       "25%         1.000000\n",
       "50%         1.000000\n",
       "75%         2.000000\n",
       "max         5.000000\n",
       "Name: headline_sent_len, dtype: float64"
      ]
     },
     "execution_count": 67,
     "metadata": {},
     "output_type": "execute_result"
    }
   ],
   "source": [
    "df_burse[df_burse.headline_sent_len > 0]['headline_sent_len'].describe()"
   ]
  },
  {
   "cell_type": "code",
   "execution_count": 70,
   "id": "9342e992",
   "metadata": {},
   "outputs": [
    {
     "data": {
      "text/plain": [
       "14470"
      ]
     },
     "execution_count": 70,
     "metadata": {},
     "output_type": "execute_result"
    }
   ],
   "source": [
    "df_burse[df_burse.headline_sent_len > 0]['headline_sent_len'].sum()"
   ]
  },
  {
   "cell_type": "code",
   "execution_count": 71,
   "id": "9e0d0a52",
   "metadata": {},
   "outputs": [
    {
     "data": {
      "text/plain": [
       "count    6799.000000\n",
       "mean        1.398294\n",
       "std         0.785967\n",
       "min         1.000000\n",
       "25%         1.000000\n",
       "50%         1.000000\n",
       "75%         2.000000\n",
       "max        16.000000\n",
       "Name: summary_sent_len, dtype: float64"
      ]
     },
     "execution_count": 71,
     "metadata": {},
     "output_type": "execute_result"
    }
   ],
   "source": [
    "df_burse[df_burse.summary_sent_len > 0]['summary_sent_len'].describe()"
   ]
  },
  {
   "cell_type": "code",
   "execution_count": 72,
   "id": "024df5de",
   "metadata": {},
   "outputs": [
    {
     "data": {
      "text/plain": [
       "9507"
      ]
     },
     "execution_count": 72,
     "metadata": {},
     "output_type": "execute_result"
    }
   ],
   "source": [
    "df_burse[df_burse.summary_sent_len > 0]['summary_sent_len'].sum()"
   ]
  },
  {
   "cell_type": "code",
   "execution_count": 73,
   "id": "17f22c0a",
   "metadata": {},
   "outputs": [
    {
     "data": {
      "text/plain": [
       "count    9149.000000\n",
       "mean        9.233250\n",
       "std         9.661274\n",
       "min         1.000000\n",
       "25%         4.000000\n",
       "50%         7.000000\n",
       "75%        11.000000\n",
       "max       169.000000\n",
       "Name: article_sent_len, dtype: float64"
      ]
     },
     "execution_count": 73,
     "metadata": {},
     "output_type": "execute_result"
    }
   ],
   "source": [
    "df_burse[df_burse.article_sent_len > 0]['article_sent_len'].describe()"
   ]
  },
  {
   "cell_type": "code",
   "execution_count": 74,
   "id": "44c68135",
   "metadata": {},
   "outputs": [
    {
     "data": {
      "text/plain": [
       "84475"
      ]
     },
     "execution_count": 74,
     "metadata": {},
     "output_type": "execute_result"
    }
   ],
   "source": [
    "df_burse[df_burse.article_sent_len > 0]['article_sent_len'].sum()"
   ]
  },
  {
   "cell_type": "markdown",
   "id": "acc97f45",
   "metadata": {},
   "source": [
    "## Finante Pers DS Sentence Stats"
   ]
  },
  {
   "cell_type": "code",
   "execution_count": 55,
   "id": "49c11303",
   "metadata": {},
   "outputs": [],
   "source": [
    "df_pers['title_sent_len'] = df_pers.title.apply(sent_tokenize).str.len()\n",
    "df_pers['headline_sent_len'] =df_pers.headline.apply(sent_tokenize).str.len()\n",
    "df_pers['summary_sent_len'] = df_pers.description.apply(sent_tokenize).str.len()\n",
    "df_pers['article_sent_len'] =df_pers.article_text.apply(sent_tokenize).str.len()"
   ]
  },
  {
   "cell_type": "code",
   "execution_count": 75,
   "id": "e6c329fe",
   "metadata": {},
   "outputs": [
    {
     "data": {
      "text/plain": [
       "count    8417.000000\n",
       "mean        1.827848\n",
       "std         1.003058\n",
       "min         1.000000\n",
       "25%         1.000000\n",
       "50%         2.000000\n",
       "75%         2.000000\n",
       "max         8.000000\n",
       "Name: title_sent_len, dtype: float64"
      ]
     },
     "execution_count": 75,
     "metadata": {},
     "output_type": "execute_result"
    }
   ],
   "source": [
    "df_pers[df_pers.title_sent_len > 0]['title_sent_len'].describe()"
   ]
  },
  {
   "cell_type": "code",
   "execution_count": 76,
   "id": "0180000d",
   "metadata": {},
   "outputs": [
    {
     "data": {
      "text/plain": [
       "15385"
      ]
     },
     "execution_count": 76,
     "metadata": {},
     "output_type": "execute_result"
    }
   ],
   "source": [
    "df_pers[df_pers.title_sent_len > 0]['title_sent_len'].sum()"
   ]
  },
  {
   "cell_type": "code",
   "execution_count": 77,
   "id": "89261896",
   "metadata": {},
   "outputs": [
    {
     "data": {
      "text/plain": [
       "count    8417.000000\n",
       "mean        1.499228\n",
       "std         0.658760\n",
       "min         1.000000\n",
       "25%         1.000000\n",
       "50%         1.000000\n",
       "75%         2.000000\n",
       "max         5.000000\n",
       "Name: headline_sent_len, dtype: float64"
      ]
     },
     "execution_count": 77,
     "metadata": {},
     "output_type": "execute_result"
    }
   ],
   "source": [
    "df_pers[df_pers.headline_sent_len > 0]['headline_sent_len'].describe()"
   ]
  },
  {
   "cell_type": "code",
   "execution_count": 78,
   "id": "f9d73748",
   "metadata": {},
   "outputs": [
    {
     "data": {
      "text/plain": [
       "12619"
      ]
     },
     "execution_count": 78,
     "metadata": {},
     "output_type": "execute_result"
    }
   ],
   "source": [
    "df_pers[df_pers.headline_sent_len > 0]['headline_sent_len'].sum()"
   ]
  },
  {
   "cell_type": "code",
   "execution_count": 79,
   "id": "63445df3",
   "metadata": {},
   "outputs": [
    {
     "data": {
      "text/plain": [
       "count    7521.000000\n",
       "mean        1.398218\n",
       "std         0.743798\n",
       "min         1.000000\n",
       "25%         1.000000\n",
       "50%         1.000000\n",
       "75%         2.000000\n",
       "max         7.000000\n",
       "Name: summary_sent_len, dtype: float64"
      ]
     },
     "execution_count": 79,
     "metadata": {},
     "output_type": "execute_result"
    }
   ],
   "source": [
    "df_pers[df_pers.summary_sent_len > 0]['summary_sent_len'].describe()"
   ]
  },
  {
   "cell_type": "code",
   "execution_count": 80,
   "id": "07cd8886",
   "metadata": {},
   "outputs": [
    {
     "data": {
      "text/plain": [
       "10516"
      ]
     },
     "execution_count": 80,
     "metadata": {},
     "output_type": "execute_result"
    }
   ],
   "source": [
    "df_pers[df_pers.summary_sent_len > 0]['summary_sent_len'].sum()"
   ]
  },
  {
   "cell_type": "code",
   "execution_count": 81,
   "id": "67f8f1eb",
   "metadata": {},
   "outputs": [
    {
     "data": {
      "text/plain": [
       "count    8411.000000\n",
       "mean       10.593865\n",
       "std        14.979656\n",
       "min         1.000000\n",
       "25%         5.000000\n",
       "50%         7.000000\n",
       "75%        11.000000\n",
       "max       327.000000\n",
       "Name: article_sent_len, dtype: float64"
      ]
     },
     "execution_count": 81,
     "metadata": {},
     "output_type": "execute_result"
    }
   ],
   "source": [
    "df_pers[df_pers.article_sent_len > 0]['article_sent_len'].describe()"
   ]
  },
  {
   "cell_type": "code",
   "execution_count": 82,
   "id": "c920ed29",
   "metadata": {},
   "outputs": [
    {
     "data": {
      "text/plain": [
       "89105"
      ]
     },
     "execution_count": 82,
     "metadata": {},
     "output_type": "execute_result"
    }
   ],
   "source": [
    "df_pers[df_pers.article_sent_len > 0]['article_sent_len'].sum()"
   ]
  },
  {
   "cell_type": "markdown",
   "id": "161e9d99",
   "metadata": {},
   "source": [
    "### Burse DS Words Stats"
   ]
  },
  {
   "cell_type": "code",
   "execution_count": null,
   "id": "59ddab0b",
   "metadata": {},
   "outputs": [],
   "source": [
    "#include vocab stats\n",
    "#include number of words contained in article\n",
    "#plots histograms in parallel"
   ]
  },
  {
   "cell_type": "markdown",
   "id": "df520cf1",
   "metadata": {},
   "source": [
    "## Finante Pers DS Word Stats"
   ]
  },
  {
   "cell_type": "code",
   "execution_count": null,
   "id": "e6d0be67",
   "metadata": {},
   "outputs": [],
   "source": [
    "#include vocab stats\n",
    "#include number of words contained in article\n",
    "#plot histograms in parallel"
   ]
  },
  {
   "cell_type": "code",
   "execution_count": null,
   "id": "a9b627dc",
   "metadata": {},
   "outputs": [],
   "source": [
    "#calc number of words from title, headline, summary that are found in the article body\n",
    "#calc stats for references used in recommender system, how man have recoms, how manyu unique recoms"
   ]
  }
 ],
 "metadata": {
  "kernelspec": {
   "display_name": "Python 3.9 (tensorflow)",
   "language": "python",
   "name": "tensorflow"
  },
  "language_info": {
   "codemirror_mode": {
    "name": "ipython",
    "version": 3
   },
   "file_extension": ".py",
   "mimetype": "text/x-python",
   "name": "python",
   "nbconvert_exporter": "python",
   "pygments_lexer": "ipython3",
   "version": "3.9.13"
  }
 },
 "nbformat": 4,
 "nbformat_minor": 5
}
